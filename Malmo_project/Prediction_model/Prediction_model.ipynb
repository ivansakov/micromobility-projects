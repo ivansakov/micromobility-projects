{
 "cells": [
  {
   "cell_type": "markdown",
   "id": "53bc9cad-702f-4bbc-9600-46f603ffdf25",
   "metadata": {},
   "source": [
    "# Prediction of e-scooter trip counts in the city of Malmo"
   ]
  },
  {
   "cell_type": "code",
   "execution_count": 2,
   "id": "059d7633-0f30-4fcd-89ab-bb0b2e7bcfaf",
   "metadata": {
    "tags": []
   },
   "outputs": [],
   "source": [
    "# Imports\n",
    "import pandas as pd\n",
    "import geopandas as gpd\n",
    "import numpy as np\n",
    "import matplotlib.pyplot as plt\n",
    "import joblib\n",
    "\n",
    "from sklearn.metrics import mean_absolute_error, r2_score, mean_squared_error\n",
    "from sklearn.model_selection import train_test_split\n",
    "from sklearn.model_selection import GridSearchCV #, cross_val_score\n",
    "from sklearn.ensemble import RandomForestRegressor\n",
    "from lightgbm import LGBMRegressor"
   ]
  },
  {
   "cell_type": "markdown",
   "id": "42f6a82c-9bf1-41b0-be5e-359e296cc17e",
   "metadata": {},
   "source": [
    "## Preparing dataset"
   ]
  },
  {
   "cell_type": "markdown",
   "id": "af5acab2-54f0-4a89-9fcb-bd093f133d60",
   "metadata": {},
   "source": [
    "- The training dataset contains independent features and a dependent feature, which is the number of outgoing trips from each h3 zone. However, some areas of the city lack infrastructure and drop-off points, so it would be more appropriate to use data for training models of areas that have such infrastructure."
   ]
  },
  {
   "cell_type": "code",
   "execution_count": 3,
   "id": "794fbb9a-a241-4cff-9e3f-774779894d7c",
   "metadata": {},
   "outputs": [],
   "source": [
    "# Read features file\n",
    "data_set_new = gpd.read_parquet('Data/features_dataset.parquet').sort_index()\n",
    "\n",
    "# Select only objects with targets_intersects == True\n",
    "data_set_new = data_set_new.query(\"targets_intersects == True\")\n",
    "# Create features and target datasets \n",
    "features = data_set_new.drop(columns=['outgoing_trips','kommunnamn','regsokod','regso','geometry','targets_intersects'])\n",
    "target = data_set_new[['outgoing_trips']]"
   ]
  },
  {
   "cell_type": "code",
   "execution_count": 4,
   "id": "7ff0f387-55f5-4ed0-b3c8-e17c19782e1a",
   "metadata": {
    "tags": []
   },
   "outputs": [
    {
     "data": {
      "text/plain": [
       "Index(['f0', 'f01', 'f03', 'f04', 'f05', 'f07', 'f08', 'f12', 'f13', 'f14',\n",
       "       'f15', 'f16', 'f17', 'f18', 'f19', 'f20', 'f21', 'f22', 'f25', 'f26',\n",
       "       'f27', 'f28', 'f29', 'f30', 'f31', 'f32', 'f33', 'f34', 'f35', 'f36',\n",
       "       'f37', 'f38'],\n",
       "      dtype='object')"
      ]
     },
     "execution_count": 4,
     "metadata": {},
     "output_type": "execute_result"
    }
   ],
   "source": [
    "# Sorting features columns\n",
    "features = features[sorted(features.columns)]\n",
    "features.columns"
   ]
  },
  {
   "cell_type": "code",
   "execution_count": 5,
   "id": "51cb06d3-7aea-4bc7-9ea7-df57dbf0d4bf",
   "metadata": {
    "tags": []
   },
   "outputs": [],
   "source": [
    "# Split datasets to train and test subsets\n",
    "X_train, X_test, y_train, y_test = train_test_split(features, target, random_state=41, test_size=0.25, shuffle=True)"
   ]
  },
  {
   "cell_type": "code",
   "execution_count": 6,
   "id": "fb73e064-15fb-48a5-8ecf-ed2623098971",
   "metadata": {
    "tags": []
   },
   "outputs": [],
   "source": [
    "# Get indexes of targets for future use\n",
    "y_test_ind = y_test.index\n",
    "y_train_ind = y_train.index\n",
    "\n",
    "# Reshape the subsets\n",
    "y_test = np.squeeze(y_test)\n",
    "y_train = np.squeeze(y_train)\n"
   ]
  },
  {
   "cell_type": "code",
   "execution_count": 7,
   "id": "6567aa4a-e8ef-4775-8342-9445a1643e8e",
   "metadata": {},
   "outputs": [
    {
     "data": {
      "text/html": [
       "<div>\n",
       "<style scoped>\n",
       "    .dataframe tbody tr th:only-of-type {\n",
       "        vertical-align: middle;\n",
       "    }\n",
       "\n",
       "    .dataframe tbody tr th {\n",
       "        vertical-align: top;\n",
       "    }\n",
       "\n",
       "    .dataframe thead th {\n",
       "        text-align: right;\n",
       "    }\n",
       "</style>\n",
       "<table border=\"1\" class=\"dataframe\">\n",
       "  <thead>\n",
       "    <tr style=\"text-align: right;\">\n",
       "      <th></th>\n",
       "      <th>outgoing_trips</th>\n",
       "    </tr>\n",
       "  </thead>\n",
       "  <tbody>\n",
       "    <tr>\n",
       "      <th>count</th>\n",
       "      <td>210.00000</td>\n",
       "    </tr>\n",
       "    <tr>\n",
       "      <th>mean</th>\n",
       "      <td>7.72619</td>\n",
       "    </tr>\n",
       "    <tr>\n",
       "      <th>std</th>\n",
       "      <td>20.04785</td>\n",
       "    </tr>\n",
       "    <tr>\n",
       "      <th>min</th>\n",
       "      <td>0.00000</td>\n",
       "    </tr>\n",
       "    <tr>\n",
       "      <th>25%</th>\n",
       "      <td>0.00000</td>\n",
       "    </tr>\n",
       "    <tr>\n",
       "      <th>50%</th>\n",
       "      <td>0.00000</td>\n",
       "    </tr>\n",
       "    <tr>\n",
       "      <th>75%</th>\n",
       "      <td>4.50000</td>\n",
       "    </tr>\n",
       "    <tr>\n",
       "      <th>max</th>\n",
       "      <td>175.50000</td>\n",
       "    </tr>\n",
       "  </tbody>\n",
       "</table>\n",
       "</div>"
      ],
      "text/plain": [
       "       outgoing_trips\n",
       "count       210.00000\n",
       "mean          7.72619\n",
       "std          20.04785\n",
       "min           0.00000\n",
       "25%           0.00000\n",
       "50%           0.00000\n",
       "75%           4.50000\n",
       "max         175.50000"
      ]
     },
     "execution_count": 7,
     "metadata": {},
     "output_type": "execute_result"
    }
   ],
   "source": [
    "# Explore the targets of test subset\n",
    "y_test.describe().to_frame()"
   ]
  },
  {
   "cell_type": "code",
   "execution_count": 8,
   "id": "35040c09-c542-4bb6-bb97-a579f4a19cd1",
   "metadata": {},
   "outputs": [
    {
     "data": {
      "text/html": [
       "<div>\n",
       "<style scoped>\n",
       "    .dataframe tbody tr th:only-of-type {\n",
       "        vertical-align: middle;\n",
       "    }\n",
       "\n",
       "    .dataframe tbody tr th {\n",
       "        vertical-align: top;\n",
       "    }\n",
       "\n",
       "    .dataframe thead th {\n",
       "        text-align: right;\n",
       "    }\n",
       "</style>\n",
       "<table border=\"1\" class=\"dataframe\">\n",
       "  <thead>\n",
       "    <tr style=\"text-align: right;\">\n",
       "      <th></th>\n",
       "      <th>outgoing_trips</th>\n",
       "    </tr>\n",
       "  </thead>\n",
       "  <tbody>\n",
       "    <tr>\n",
       "      <th>count</th>\n",
       "      <td>630.000000</td>\n",
       "    </tr>\n",
       "    <tr>\n",
       "      <th>mean</th>\n",
       "      <td>8.888095</td>\n",
       "    </tr>\n",
       "    <tr>\n",
       "      <th>std</th>\n",
       "      <td>22.800105</td>\n",
       "    </tr>\n",
       "    <tr>\n",
       "      <th>min</th>\n",
       "      <td>0.000000</td>\n",
       "    </tr>\n",
       "    <tr>\n",
       "      <th>25%</th>\n",
       "      <td>0.000000</td>\n",
       "    </tr>\n",
       "    <tr>\n",
       "      <th>50%</th>\n",
       "      <td>0.000000</td>\n",
       "    </tr>\n",
       "    <tr>\n",
       "      <th>75%</th>\n",
       "      <td>6.000000</td>\n",
       "    </tr>\n",
       "    <tr>\n",
       "      <th>max</th>\n",
       "      <td>256.500000</td>\n",
       "    </tr>\n",
       "  </tbody>\n",
       "</table>\n",
       "</div>"
      ],
      "text/plain": [
       "       outgoing_trips\n",
       "count      630.000000\n",
       "mean         8.888095\n",
       "std         22.800105\n",
       "min          0.000000\n",
       "25%          0.000000\n",
       "50%          0.000000\n",
       "75%          6.000000\n",
       "max        256.500000"
      ]
     },
     "execution_count": 8,
     "metadata": {},
     "output_type": "execute_result"
    }
   ],
   "source": [
    "# Explore the targets of train subset\n",
    "y_train.describe().to_frame()"
   ]
  },
  {
   "cell_type": "markdown",
   "id": "8cec537e-861e-4fc5-8d60-48d18da7ce48",
   "metadata": {},
   "source": [
    "## Error measures"
   ]
  },
  {
   "cell_type": "markdown",
   "id": "21518fa8-3f39-491b-939c-0df90070ec56",
   "metadata": {},
   "source": [
    "- The main metrics for comparing the quality of two different models will be sMAPE (Symmetric mean absolute percentage error) and RMSE (Root mean squared error).\n",
    "\n",
    "\n",
    "Oddly, there are two definitions of sMAPE according to [**Wikipedia**](https://en.wikipedia.org/wiki/Symmetric_mean_absolute_percentage_error).\n",
    "\n",
    "\n",
    "Additionally, there are other definitions of sMAPE found in [**research**](https://onlinelibrary.wiley.com/doi/10.1111/gean.12354).\n",
    "\n",
    "- More information about sMAPE interpretation can be found in this [article](https://medium.com/@davide.sarra/how-to-interpret-smape-just-like-mape-bf799ba03bdc)."
   ]
  },
  {
   "cell_type": "code",
   "execution_count": 9,
   "id": "7d85708b-5f69-4a13-bd82-eda8d2530596",
   "metadata": {
    "tags": []
   },
   "outputs": [],
   "source": [
    "# Create function for calculating sMAPE 0-200\n",
    "\n",
    "\n",
    "def smape_200(actual, predicted):\n",
    "    \"\"\"\n",
    "    Calculate the Symmetric Mean Absolute Percentage Error (SMAPE) between actual and predicted values.\n",
    "\n",
    "    \"\"\"\n",
    "    \n",
    "    return np.mean(np.abs(actual - predicted) / ((np.abs(actual) + np.abs(predicted))/2))* 100"
   ]
  },
  {
   "cell_type": "code",
   "execution_count": 10,
   "id": "c0c46b18-9418-42e8-99b8-f71452ff18d6",
   "metadata": {
    "tags": []
   },
   "outputs": [],
   "source": [
    "# Create function for calculating sMAPE 0-100\n",
    "\n",
    "\n",
    "def smape_100(actual, predicted):\n",
    "    \"\"\"\n",
    "    Calculate the Symmetric Mean Absolute Percentage Error (SMAPE) between actual and predicted values.\n",
    "\n",
    "    \"\"\"\n",
    "    \n",
    "    return np.mean(np.abs(actual - predicted) / ((np.abs(actual) + np.abs(predicted))))* 100"
   ]
  },
  {
   "cell_type": "code",
   "execution_count": 11,
   "id": "ebb2cabd-108d-43b0-bfbf-6797f075c74b",
   "metadata": {
    "tags": []
   },
   "outputs": [],
   "source": [
    "# Create function for calculating sMAPE \n",
    "\n",
    "\n",
    "def smape_res(actual, predicted):\n",
    "    \"\"\"\n",
    "    Calculate the Symmetric Mean Absolute Percentage Error (SMAPE) between actual and predicted values.\n",
    "    FROM research\n",
    "\n",
    "    \"\"\"\n",
    "    \n",
    "    return np.mean(np.abs(actual - predicted) / (actual + predicted + 1))"
   ]
  },
  {
   "cell_type": "markdown",
   "id": "0426ec94-b4f6-44e0-add5-fb7a1595de5b",
   "metadata": {},
   "source": [
    "## Random Forest Regression"
   ]
  },
  {
   "cell_type": "code",
   "execution_count": 68,
   "id": "f1aa86c6-2f8f-47dd-9ead-003c12010438",
   "metadata": {
    "tags": []
   },
   "outputs": [],
   "source": [
    "# Define the parameter grid for the Random Forest Regressor\n",
    "param_grid = {'n_estimators': [10, 11, 12, 13, 14, 15, 16, 17, 18, 19,20,21],\n",
    "              'max_depth': [6, 7, 8, 9]}"
   ]
  },
  {
   "cell_type": "code",
   "execution_count": 69,
   "id": "4ff5adfd-315a-4865-bd47-692d91728d87",
   "metadata": {
    "tags": []
   },
   "outputs": [
    {
     "name": "stdout",
     "output_type": "stream",
     "text": [
      "The best MSE value for the Random Forest is 158.690 with the following hyperparameter values: {'max_depth': 9, 'n_estimators': 15}\n"
     ]
    }
   ],
   "source": [
    "# Create a RandomForestRegressor \n",
    "rf = RandomForestRegressor(random_state=41, criterion='squared_error') # criterion=“squared_error”, “absolute_error”, “friedman_mse”, “poisson”\n",
    "\n",
    "# Create a GridSearchCV \n",
    "rf_search = GridSearchCV(rf, param_grid, cv=5, scoring='neg_mean_squared_error')\n",
    "\n",
    "# Fit the GridSearchCV \n",
    "rf_search.fit(X_train, y_train)\n",
    "\n",
    "# Print the best sMAPE score\n",
    "print(\"The best MSE value for the Random Forest is {:.3f} with the following hyperparameter values: {}\"\n",
    "      .format(-rf_search.best_score_, rf_search.best_params_))\n",
    "\n",
    "# Get the best estimator\n",
    "best_rf = rf_search.best_estimator_\n",
    "\n",
    "# Make predictions on the test data (X_test)\n",
    "y_pred = best_rf.predict(X_test)"
   ]
  },
  {
   "cell_type": "markdown",
   "id": "492564d8-47c1-4926-83da-263be60bfe67",
   "metadata": {},
   "source": [
    "- Metrics of quality for test subset"
   ]
  },
  {
   "cell_type": "code",
   "execution_count": 70,
   "id": "7007676c-a4eb-41ad-a892-d8cf5aaa54cd",
   "metadata": {
    "tags": []
   },
   "outputs": [
    {
     "name": "stdout",
     "output_type": "stream",
     "text": [
      "MSE: 73.55821812355244\n",
      "RMSE: 8.576608777573595\n",
      "\n",
      "SMAPE 0-200: 133.97823611514812\n",
      "SMAPE 0-100: 66.98911805757406\n",
      "SMAPE RESEARCH: 0.2714714214469991\n",
      "\n",
      "MAE: 4.00706209023915\n",
      "R2: 0.8161055623319353\n"
     ]
    }
   ],
   "source": [
    "# Print various evaluation metrics for the model's predictions\n",
    "\n",
    "print(f\"MSE: {mean_squared_error(y_test, y_pred)}\")  # Mean Squared Error\n",
    "print(f\"RMSE: {mean_squared_error(y_test, y_pred, squared=False)}\")  # Root Mean Squared Error\n",
    "print()\n",
    "print(f\"SMAPE 0-200: {smape_200(y_test, y_pred)}\")     # Symmetric Mean Absolute Percentage Error 0-200\n",
    "print(f\"SMAPE 0-100: {smape_100(y_test, y_pred)}\")     # Symmetric Mean Absolute Percentage Error 0-100\n",
    "print(f\"SMAPE RESEARCH: {smape_res(y_test, y_pred)}\")  # Custom SMAPE variant (research specific)\n",
    "print()\n",
    "print(f\"MAE: {mean_absolute_error(y_test, y_pred)}\")  # Mean Absolute Error\n",
    "print(f\"R2: {r2_score(y_test, y_pred)}\")              # R-squared"
   ]
  },
  {
   "cell_type": "code",
   "execution_count": 71,
   "id": "04dbd024-cd29-4961-bc16-3097844b19c3",
   "metadata": {},
   "outputs": [
    {
     "data": {
      "text/plain": [
       "['RandomForestRegressor_Malmo.pkl']"
      ]
     },
     "execution_count": 71,
     "metadata": {},
     "output_type": "execute_result"
    }
   ],
   "source": [
    "# Save whe best estimator\n",
    "joblib.dump(best_rf, 'RandomForestRegressor_Malmo.pkl')"
   ]
  },
  {
   "cell_type": "code",
   "execution_count": 72,
   "id": "3ee0738d-f13a-4bb7-86f7-d5d1fcaf80db",
   "metadata": {
    "tags": []
   },
   "outputs": [
    {
     "name": "stdout",
     "output_type": "stream",
     "text": [
      "count    210.000000\n",
      "mean       1.156516\n",
      "std        8.518582\n",
      "min      -52.233333\n",
      "25%        0.030379\n",
      "50%        0.108301\n",
      "75%        2.000572\n",
      "max       50.933333\n",
      "Name: delta, dtype: float64\n"
     ]
    }
   ],
   "source": [
    "# Create the predictions DataFrame and set the index\n",
    "predictions = pd.DataFrame({'h3_polyfill': y_test_ind, 'pred': y_pred}).set_index('h3_polyfill', drop=True)\n",
    "\n",
    "# Select the desired columns from the data_set_new DataFrame\n",
    "head = data_set_new[['kommunnamn', 'regsokod', 'regso', 'geometry', 'targets_intersects', 'outgoing_trips']]\n",
    "\n",
    "# Join the predictions DataFrame with the head DataFrame\n",
    "head = head.join(predictions)\n",
    "\n",
    "# Filter rows where the 'pred' column is not NaN\n",
    "head = head.dropna(subset=['pred'])\n",
    "\n",
    "# Calculate the 'delta' column\n",
    "head[\"delta\"] = head.pred - head.outgoing_trips\n",
    "\n",
    "# Describe the 'delta' column\n",
    "delta_description = head.delta.describe()\n",
    "\n",
    "print(delta_description)"
   ]
  },
  {
   "cell_type": "markdown",
   "id": "df547b25-a1c2-4343-a94b-1111433dd81f",
   "metadata": {},
   "source": [
    "- The differences between the predicted values by the Random Forest Regression and the observed values in the test data set are shown. "
   ]
  },
  {
   "cell_type": "code",
   "execution_count": 73,
   "id": "505a0cdb-28d1-4ef0-b4eb-742dbf18d59d",
   "metadata": {
    "tags": []
   },
   "outputs": [
    {
     "data": {
      "image/png": "[encoded data removed]",
      "text/plain": [
       "<Figure size 640x480 with 1 Axes>"
      ]
     },
     "metadata": {},
     "output_type": "display_data"
    }
   ],
   "source": [
    "# Hist for differences between the predicted and actual values\n",
    "head.delta.hist(bins=80)\n",
    "plt.title('Histogram of Differences between Predicted and Actual Values')\n",
    "plt.xlabel('Difference')\n",
    "plt.ylabel('Frequency');"
   ]
  },
  {
   "cell_type": "markdown",
   "id": "33e9727c-a451-497c-8a38-eb9e8280fd38",
   "metadata": {},
   "source": [
    "## LightGBM Regression"
   ]
  },
  {
   "cell_type": "code",
   "execution_count": 74,
   "id": "72a8de96-2edd-4ed7-9b50-41e25a514098",
   "metadata": {
    "tags": []
   },
   "outputs": [],
   "source": [
    "# Define the parameter grid for the LGBMRegressor\n",
    "param_grid_lgbm = {'n_estimators': range(600, 1200, 100),\n",
    "              'num_leaves': [3,6,9,12],\n",
    "             'learning_rate': [0.001, 0.005, 0.01, 0.05, 0.1]\n",
    "                  }"
   ]
  },
  {
   "cell_type": "code",
   "execution_count": 12,
   "id": "26cab8a1-8508-4f3a-8e5e-19e56560b3a4",
   "metadata": {},
   "outputs": [],
   "source": [
    "# Define the parameter grid for the LGBMRegressor\n",
    "param_grid_lgbm = {'n_estimators': [800],\n",
    "              'num_leaves': [9],\n",
    "             'learning_rate': [0.005]\n",
    "                  }"
   ]
  },
  {
   "cell_type": "code",
   "execution_count": 13,
   "id": "695b4c55-c435-4353-bc44-6734b73152cc",
   "metadata": {
    "tags": []
   },
   "outputs": [
    {
     "name": "stdout",
     "output_type": "stream",
     "text": [
      "The best MSE value for the Random Forest is 165.338 with the following hyperparameter values: {'learning_rate': 0.005, 'n_estimators': 800, 'num_leaves': 9}\n"
     ]
    }
   ],
   "source": [
    "# Create a LGBMRegressor\n",
    "\n",
    "lgbm = LGBMRegressor(random_state=41)\n",
    "\n",
    "# Create a GridSearchCV \n",
    "lgbm_search = GridSearchCV(lgbm, param_grid_lgbm, cv=5, scoring=\"neg_mean_squared_error\")\n",
    "lgbm_search.fit(X_train, y_train)\n",
    "\n",
    "# Fit the GridSearchCV \n",
    "lgbm_search.fit(X_train, y_train)\n",
    "\n",
    "# Print the best sMAPE score\n",
    "print(\"The best MSE value for the Random Forest is {:.3f} with the following hyperparameter values: {}\"\n",
    "      .format(-lgbm_search.best_score_, lgbm_search.best_params_))\n",
    "\n",
    "# Get the best estimator\n",
    "best_lgbm = lgbm_search.best_estimator_\n",
    "\n",
    "# Make predictions on the test data (X_test)\n",
    "y_pred = best_lgbm.predict(X_test)"
   ]
  },
  {
   "cell_type": "markdown",
   "id": "5dbbadf6-f730-4f2e-90d0-1c49f3ca8c44",
   "metadata": {},
   "source": [
    "- Metrics of quality for test subset"
   ]
  },
  {
   "cell_type": "code",
   "execution_count": 14,
   "id": "0cfd5a5a-df4a-4bdd-ba15-b46da319f0db",
   "metadata": {
    "tags": []
   },
   "outputs": [
    {
     "name": "stdout",
     "output_type": "stream",
     "text": [
      "MSE: 91.90172638108793\n",
      "RMSE: 9.586538811327472\n",
      "\n",
      "SMAPE 0-200: 134.12924467177544\n",
      "SMAPE 0-100: 67.06462233588772\n",
      "SMAPE RESEARCH: 0.27420812607858513\n",
      "\n",
      "MAE: 4.067086783851293\n",
      "R2: 0.7702470679049352\n"
     ]
    }
   ],
   "source": [
    "# Print various evaluation metrics for the model's predictions\n",
    "print(f\"MSE: {mean_squared_error(y_test, y_pred)}\")  # Mean Squared Error\n",
    "print(f\"RMSE: {mean_squared_error(y_test, y_pred, squared=False)}\")  # Root Mean Squared Error\n",
    "print()\n",
    "print(f\"SMAPE 0-200: {smape_200(y_test, y_pred)}\")     # Symmetric Mean Absolute Percentage Error 0-200\n",
    "print(f\"SMAPE 0-100: {smape_100(y_test, y_pred)}\")     # Symmetric Mean Absolute Percentage Error 0-100\n",
    "print(f\"SMAPE RESEARCH: {smape_res(y_test, y_pred)}\")  # Custom SMAPE variant (research specific)\n",
    "print()\n",
    "print(f\"MAE: {mean_absolute_error(y_test, y_pred)}\")  # Mean Absolute Error\n",
    "print(f\"R2: {r2_score(y_test, y_pred)}\")              # R-squared"
   ]
  },
  {
   "cell_type": "code",
   "execution_count": 77,
   "id": "e4f6723e-d67b-4222-ae72-f0e3458b2286",
   "metadata": {},
   "outputs": [
    {
     "data": {
      "text/plain": [
       "['LGBMRegressor_Malmo.pkl']"
      ]
     },
     "execution_count": 77,
     "metadata": {},
     "output_type": "execute_result"
    }
   ],
   "source": [
    "# Save whe best estimator\n",
    "joblib.dump(best_lgbm, 'LGBMRegressor_Malmo.pkl')"
   ]
  },
  {
   "cell_type": "code",
   "execution_count": 15,
   "id": "f7fc144f-31fa-4c60-a78f-5673bd9a748a",
   "metadata": {
    "tags": []
   },
   "outputs": [
    {
     "name": "stdout",
     "output_type": "stream",
     "text": [
      "count    210.000000\n",
      "mean       0.576604\n",
      "std        9.592048\n",
      "min      -88.181316\n",
      "25%       -0.281646\n",
      "50%        0.313378\n",
      "75%        1.410271\n",
      "max       42.718620\n",
      "Name: delta, dtype: float64\n"
     ]
    }
   ],
   "source": [
    "# Create the predictions DataFrame and set the index\n",
    "predictions = pd.DataFrame({'h3_polyfill': y_test_ind, 'pred': y_pred}).set_index('h3_polyfill', drop=True)\n",
    "\n",
    "# Select the desired columns from the data_set_new DataFrame\n",
    "head = data_set_new[['kommunnamn', 'regsokod', 'regso', 'geometry', 'targets_intersects', 'outgoing_trips']]\n",
    "\n",
    "# Join the predictions DataFrame with the head DataFrame\n",
    "head = head.join(predictions)\n",
    "\n",
    "# Filter rows where the 'pred' column is not NaN\n",
    "head = head.dropna(subset=['pred'])\n",
    "\n",
    "# Calculate the 'delta' column\n",
    "head[\"delta\"] = head.pred - head.outgoing_trips\n",
    "\n",
    "# Describe the 'delta' column\n",
    "delta_description = head.delta.describe()\n",
    "\n",
    "print(delta_description)"
   ]
  },
  {
   "cell_type": "code",
   "execution_count": 16,
   "id": "c62ddca5-11db-4a10-b1b3-4e6971181c11",
   "metadata": {
    "tags": []
   },
   "outputs": [
    {
     "data": {
      "image/png": "[encoded data removed]",
      "text/plain": [
       "<Figure size 640x480 with 1 Axes>"
      ]
     },
     "metadata": {},
     "output_type": "display_data"
    }
   ],
   "source": [
    "# Hist for differences between the predicted and actual values\n",
    "head.delta.hist(bins=80)\n",
    "plt.title('Histogram of Differences between Predicted and Actual Values')\n",
    "plt.xlabel('Difference')\n",
    "plt.ylabel('Frequency');"
   ]
  },
  {
   "cell_type": "code",
   "execution_count": 21,
   "id": "838eac05-764c-4762-b72b-4119cab010c1",
   "metadata": {
    "tags": []
   },
   "outputs": [
    {
     "data": {
      "image/png": "[encoded data removed]",
      "text/plain": [
       "<Figure size 1000x600 with 1 Axes>"
      ]
     },
     "metadata": {},
     "output_type": "display_data"
    }
   ],
   "source": [
    "# Extract the feature importances and create a DataFrame\n",
    "feature_importances = best_lgbm.feature_importances_\n",
    "feature_names = best_lgbm.feature_name_\n",
    "\n",
    "imp = pd.DataFrame({\"feature\": feature_names, \"importance\": feature_importances}).sort_values(by=\"importance\", ascending=True)\n",
    "\n",
    "# Barplot\n",
    "plt.figure(figsize=(10, 6))\n",
    "plt.barh(imp['feature'], imp['importance'])\n",
    "plt.xlabel(\"Importance\")\n",
    "plt.ylabel(\"Feature\")\n",
    "plt.title(\"Feature Importances\")\n",
    "plt.show()"
   ]
  },
  {
   "cell_type": "markdown",
   "id": "c45334a5-13a3-40bb-8ebc-0516d915dcf7",
   "metadata": {},
   "source": [
    "**Feature Importance**\n",
    "\n",
    "\n",
    "<table width=100% valign=top >\n",
    "  <tr>\n",
    "    <td width=10%>Short version</td>\n",
    "    <td>Feature type</td>\n",
    "    <td>Description</td>\n",
    "    <td>Importance</td>\n",
    "  </tr>\n",
    "    <tr>\n",
    "    <td>f20</td>\n",
    "    <td>Number of all POIs within k-neighbour cells</td>\n",
    "    <td>Stores, service providers, restaurants, cafés, bars</td>\n",
    "    <td>1324</td>\n",
    "    </tr>\n",
    "    <tr>\n",
    "    <td>f38</td>\n",
    "    <td>Number of persons living within a grid cell</td>\n",
    "    <td>Population</td>\n",
    "    <td>839</td>\n",
    "    </tr>\n",
    "    <tr>\n",
    "    <td>f19</td>\n",
    "    <td>Landuse features - Share of h3 grid cell</td>\n",
    "    <td>Buildings of all kinds</td>\n",
    "    <td>780</td>\n",
    "    </tr>\n",
    "    <tr>\n",
    "    <td>f32</td>\n",
    "    <td>Distance to the closest object in m</td>\n",
    "    <td>University</td>\n",
    "    <td>755</td>\n",
    "    </tr>\n",
    "    <td>f33</td>\n",
    "    <td>Distance to the closest object in m</td>\n",
    "    <td>Bus station</td>\n",
    "    <td>590</td>\n",
    "    </tr>\n",
    "    <tr>\n",
    "    <td>f34</td>\n",
    "    <td>Distance to the closest object in m</td>\n",
    "    <td>Railway station / Light rail station / Metro</td>\n",
    "    <td>538</td>\n",
    "    </tr>\n",
    "    <tr>\n",
    "    <td>f37</td>\n",
    "    <td>Distance to the closest object in m</td>\n",
    "    <td>Mall</td>\n",
    "    <td>329</td>\n",
    "    </tr> \n",
    "    <tr>\n",
    "    <td>f35</td>\n",
    "    <td>Distance to the closest object in m</td>\n",
    "    <td>Cycle paths</td>\n",
    "    <td>247</td>\n",
    "    </tr>\n",
    "    <tr>\n",
    "    <td>f36</td>\n",
    "    <td>Distance to the closest object in m</td>\n",
    "    <td>Arterial road</td>\n",
    "    <td>221</td>\n",
    "    </tr>\n",
    "    <tr>\n",
    "    <td>f21</td>\n",
    "    <td>Number of all POIs within k-neighbour cells</td>\n",
    "    <td>Sports centers, gyms, soccer fields, running tracks</td>\n",
    "    <td>220</td>\n",
    "    </tr>\n",
    "    <tr>\n",
    "    <td>f28</td>\n",
    "    <td>Number of all POIs within k-neighbour cells</td>\n",
    "    <td>Event venues, theatres, movie theatres, museums</td>\n",
    "    <td>101</td>\n",
    "    </tr>\n",
    "    <tr>\n",
    "    <td>f18</td>\n",
    "    <td>Landuse features - Share of h3 grid cell</td>\n",
    "    <td>Green space > 10_000 m2</td>\n",
    "    <td>97</td>\n",
    "    </tr>\n",
    "    <tr>\n",
    "    <td>f27</td>\n",
    "    <td>Number of all POIs within k-neighbour cells</td>\n",
    "    <td>Kindergartens</td>\n",
    "    <td>86</td>\n",
    "    </tr>\n",
    "    <tr>\n",
    "    <td>f29</td>\n",
    "    <td>Number of all POIs within k-neighbour cells</td>\n",
    "    <td>Libraries</td>\n",
    "    <td>65</td>\n",
    "    </tr>\n",
    "    <tr>\n",
    "    <td>f25</td>\n",
    "    <td>Number of all POIs within k-neighbour cells</td>\n",
    "    <td>Healthcare facilities</td>\n",
    "    <td>61</td>\n",
    "    </tr>\n",
    "    <tr>\n",
    "    <td>f31</td>\n",
    "    <td>Number of all POIs within k-neighbour cells</td>\n",
    "    <td>Tourist attractions</td>\n",
    "    <td>57</td>\n",
    "    </tr>\n",
    "    <tr>\n",
    "    <td>f26</td>\n",
    "    <td>Number of all POIs within k-neighbour cells</td>\n",
    "    <td>Elementary, secondary schools</td>\n",
    "    <td>52</td>\n",
    "    </tr>\n",
    "    <tr>\n",
    "    <td>f22</td>\n",
    "    <td>Number of all POIs within k-neighbour cells</td>\n",
    "    <td>Hotels</td>\n",
    "    <td>24</td>\n",
    "    </tr>\n",
    "    <tr>\n",
    "    <td>f0</td>\n",
    "    <td>Landuse features - Share of h3 grid cell</td>\n",
    "    <td>Residential building land</td>\n",
    "    <td>11</td>\n",
    "    </tr>\n",
    "</table>"
   ]
  },
  {
   "cell_type": "markdown",
   "id": "7b59d5c5-416a-44c1-b39e-29ee213d94a5",
   "metadata": {},
   "source": [
    "## Metrics of baseline models"
   ]
  },
  {
   "cell_type": "code",
   "execution_count": 84,
   "id": "6980cf9c-54d4-4ceb-bab5-6a9364ae61df",
   "metadata": {},
   "outputs": [
    {
     "name": "stdout",
     "output_type": "stream",
     "text": [
      "MSE: 400.7617970521542\n",
      "RMSE: 20.019035867197854\n",
      "\n",
      "SMAPE 0-200: 151.75071481612378\n",
      "SMAPE 0-100: 75.87535740806189\n",
      "SMAPE RESEARCH: 0.6895880893715745\n",
      "\n",
      "MAE: 11.297074829931972\n",
      "R2: -0.0018984579528820156\n"
     ]
    }
   ],
   "source": [
    "# MEAN model\n",
    "\n",
    "y_pred = np.full_like(y_test, np.mean(target, axis=0))\n",
    "\n",
    "# Print various evaluation metrics for the model's predictions\n",
    "\n",
    "print(f\"MSE: {mean_squared_error(y_test, y_pred)}\")  # Mean Squared Error\n",
    "print(f\"RMSE: {mean_squared_error(y_test, y_pred, squared=False)}\")  # Root Mean Squared Error\n",
    "print()\n",
    "print(f\"SMAPE 0-200: {smape_200(y_test, y_pred)}\")     # Symmetric Mean Absolute Percentage Error 0-200\n",
    "print(f\"SMAPE 0-100: {smape_100(y_test, y_pred)}\")     # Symmetric Mean Absolute Percentage Error 0-100\n",
    "print(f\"SMAPE RESEARCH: {smape_res(y_test, y_pred)}\")  # Custom SMAPE variant (research specific)\n",
    "print()\n",
    "print(f\"MAE: {mean_absolute_error(y_test, y_pred)}\")  # Mean Absolute Error\n",
    "print(f\"R2: {r2_score(y_test, y_pred)}\")              # R-squared"
   ]
  },
  {
   "cell_type": "code",
   "execution_count": 85,
   "id": "485c19e3-462a-4af3-883d-efa01235e886",
   "metadata": {},
   "outputs": [
    {
     "name": "stdout",
     "output_type": "stream",
     "text": [
      "MSE: 459.69642857142856\n",
      "RMSE: 21.440532376119503\n",
      "\n",
      "SMAPE 0-200: 200.0\n",
      "SMAPE 0-100: 100.0\n",
      "SMAPE RESEARCH: 0.38222283543925606\n",
      "\n",
      "MAE: 7.726190476190476\n",
      "R2: -0.14923414931245094\n"
     ]
    }
   ],
   "source": [
    "# MEDIAN model\n",
    "y_pred = np.full_like(y_test, np.median(target))\n",
    "\n",
    "# Print various evaluation metrics for the model's predictions\n",
    "print(f\"MSE: {mean_squared_error(y_test, y_pred)}\")  # Mean Squared Error\n",
    "print(f\"RMSE: {mean_squared_error(y_test, y_pred, squared=False)}\")  # Root Mean Squared Error\n",
    "print()\n",
    "print(f\"SMAPE 0-200: {smape_200(y_test, y_pred)}\")     # Symmetric Mean Absolute Percentage Error 0-200\n",
    "print(f\"SMAPE 0-100: {smape_100(y_test, y_pred)}\")     # Symmetric Mean Absolute Percentage Error 0-100\n",
    "print(f\"SMAPE RESEARCH: {smape_res(y_test, y_pred)}\")  # Custom SMAPE variant (research specific)\n",
    "print()\n",
    "print(f\"MAE: {mean_absolute_error(y_test, y_pred)}\")  # Mean Absolute Error\n",
    "print(f\"R2: {r2_score(y_test, y_pred)}\")              # R-squared"
   ]
  },
  {
   "cell_type": "code",
   "execution_count": null,
   "id": "42386e93-9798-46fc-a290-8f2f949c8ffb",
   "metadata": {},
   "outputs": [],
   "source": []
  },
  {
   "cell_type": "code",
   "execution_count": null,
   "id": "9dd1fd2e-a3c6-43bf-b978-1cf134d25b9c",
   "metadata": {},
   "outputs": [],
   "source": []
  }
 ],
 "metadata": {
  "kernelspec": {
   "display_name": "Python 3 (ipykernel)",
   "language": "python",
   "name": "python3"
  },
  "language_info": {
   "codemirror_mode": {
    "name": "ipython",
    "version": 3
   },
   "file_extension": ".py",
   "mimetype": "text/x-python",
   "name": "python",
   "nbconvert_exporter": "python",
   "pygments_lexer": "ipython3",
   "version": "3.10.6"
  }
 },
 "nbformat": 4,
 "nbformat_minor": 5
}
