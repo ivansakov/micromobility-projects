{
 "cells": [
  {
   "cell_type": "code",
   "execution_count": 1,
   "id": "8943753d-b4ee-4f91-b687-056330768b06",
   "metadata": {},
   "outputs": [],
   "source": [
    "# Imports\n",
    "import osmnx as ox\n",
    "import matplotlib\n",
    "import mapclassify\n",
    "import folium\n",
    "import pandas as pd\n",
    "import geopandas as gpd\n",
    "import h3pandas\n",
    "import h3\n",
    "\n",
    "from shapely.geometry import MultiPolygon # Buildings\n",
    "import time\n",
    "import re # for population feature\n",
    "\n",
    "from pathlib import Path\n",
    "import gc"
   ]
  },
  {
   "cell_type": "code",
   "execution_count": 2,
   "id": "ee768648-03b8-49a4-b84d-a1467240be6a",
   "metadata": {},
   "outputs": [
    {
     "name": "stdout",
     "output_type": "stream",
     "text": [
      "osmnx 1.5.1\n",
      "pandas 2.0.3\n",
      "geopandas 0.13.2\n",
      "folium 0.14.0\n",
      "h3pandas 0.2.4\n"
     ]
    }
   ],
   "source": [
    "# Print the versions of pkgs\n",
    "print(\"osmnx\", ox.__version__)\n",
    "print(\"pandas\", pd.__version__)\n",
    "print(\"geopandas\", gpd.__version__)\n",
    "print(\"folium\", folium.__version__)\n",
    "print(\"h3pandas\", h3pandas.__version__)"
   ]
  },
  {
   "cell_type": "code",
   "execution_count": 3,
   "id": "fdc00f91-350d-4f73-b41c-0c9d873eea53",
   "metadata": {},
   "outputs": [],
   "source": [
    "# Get the current working directory\n",
    "cwd = Path.cwd()\n",
    "\n",
    "# Create a paths to the features and temp directories\n",
    "RAW_DATA_PATH = cwd / \"Data\"\n",
    "TEMP_DATA_PATH = cwd / \"Temp\"\n",
    "FEATURE_PATH = cwd / \"Features\"\n",
    "LANDUSE_PATH = FEATURE_PATH / \"landuse\"\n",
    "POI_PATH = FEATURE_PATH / \"poi\"\n",
    "DIST_PATH = FEATURE_PATH / \"distance\"\n",
    "\n",
    "# Create constant for osmnx and crs\n",
    "PLACE = \"Malmö kommun\"\n",
    "CRS = 3006\n",
    "WGS = 4326"
   ]
  },
  {
   "cell_type": "code",
   "execution_count": 4,
   "id": "0853a982-1454-4226-861d-80ed9bcec0fa",
   "metadata": {},
   "outputs": [],
   "source": [
    "# Create dirs for paths\n",
    "RAW_DATA_PATH.mkdir(parents=True, exist_ok=True)\n",
    "TEMP_DATA_PATH.mkdir(parents=True, exist_ok=True)\n",
    "FEATURE_PATH.mkdir(parents=True, exist_ok=True)\n",
    "LANDUSE_PATH.mkdir(parents=True, exist_ok=True)\n",
    "POI_PATH.mkdir(parents=True, exist_ok=True)\n",
    "DIST_PATH.mkdir(parents=True, exist_ok=True)"
   ]
  },
  {
   "cell_type": "markdown",
   "id": "363a0d23-79c4-4447-ad5a-9cc7f76afd32",
   "metadata": {},
   "source": [
    "## RegSo"
   ]
  },
  {
   "cell_type": "markdown",
   "id": "867887a2-7428-45bc-91e0-5ae8ce9c185f",
   "metadata": {},
   "source": [
    "### Upload RegSo"
   ]
  },
  {
   "cell_type": "code",
   "execution_count": 5,
   "id": "58019fb0-b3d6-4356-b69f-fb3da30dacd7",
   "metadata": {},
   "outputs": [
    {
     "name": "stdout",
     "output_type": "stream",
     "text": [
      "Shape of regso_city: (91, 4)\n"
     ]
    }
   ],
   "source": [
    "# Upload raw data frame with regso information\n",
    "regso_city = gpd.read_parquet(f\"{RAW_DATA_PATH}/malmo_regso.parquet\")[['regsokod', 'regso','kommunnamn', 'geometry']].to_crs(WGS)\n",
    "print(f\"Shape of regso_city: {regso_city.shape}\")"
   ]
  },
  {
   "cell_type": "code",
   "execution_count": 6,
   "id": "ecc2ee73-0f9a-45a3-a4ae-bdebb351326f",
   "metadata": {},
   "outputs": [
    {
     "data": {
      "text/html": [
       "<div>\n",
       "<style scoped>\n",
       "    .dataframe tbody tr th:only-of-type {\n",
       "        vertical-align: middle;\n",
       "    }\n",
       "\n",
       "    .dataframe tbody tr th {\n",
       "        vertical-align: top;\n",
       "    }\n",
       "\n",
       "    .dataframe thead th {\n",
       "        text-align: right;\n",
       "    }\n",
       "</style>\n",
       "<table border=\"1\" class=\"dataframe\">\n",
       "  <thead>\n",
       "    <tr style=\"text-align: right;\">\n",
       "      <th></th>\n",
       "      <th>regsokod</th>\n",
       "      <th>regso</th>\n",
       "      <th>kommunnamn</th>\n",
       "      <th>geometry</th>\n",
       "    </tr>\n",
       "  </thead>\n",
       "  <tbody>\n",
       "    <tr>\n",
       "      <th>0</th>\n",
       "      <td>1280R003</td>\n",
       "      <td>RegSO-Annelund-Lönngården</td>\n",
       "      <td>Malmö</td>\n",
       "      <td>POLYGON ((13.03129 55.58991, 13.03111 55.58954...</td>\n",
       "    </tr>\n",
       "    <tr>\n",
       "      <th>1</th>\n",
       "      <td>1280R044</td>\n",
       "      <td>RegSO-Limhamns hamnområde</td>\n",
       "      <td>Malmö</td>\n",
       "      <td>POLYGON ((12.94297 55.59082, 12.94192 55.59022...</td>\n",
       "    </tr>\n",
       "  </tbody>\n",
       "</table>\n",
       "</div>"
      ],
      "text/plain": [
       "   regsokod                      regso kommunnamn  \\\n",
       "0  1280R003  RegSO-Annelund-Lönngården      Malmö   \n",
       "1  1280R044  RegSO-Limhamns hamnområde      Malmö   \n",
       "\n",
       "                                            geometry  \n",
       "0  POLYGON ((13.03129 55.58991, 13.03111 55.58954...  \n",
       "1  POLYGON ((12.94297 55.59082, 12.94192 55.59022...  "
      ]
     },
     "execution_count": 6,
     "metadata": {},
     "output_type": "execute_result"
    }
   ],
   "source": [
    "# Print head of data frame\n",
    "regso_city.head(2)"
   ]
  },
  {
   "cell_type": "code",
   "execution_count": 7,
   "id": "1ec5ee2f-5806-4f26-81da-b1c8b730fd1f",
   "metadata": {},
   "outputs": [],
   "source": [
    "# # Plot the polygons on the map\n",
    "# regso_city.to_crs(4326).explore()"
   ]
  },
  {
   "cell_type": "markdown",
   "id": "d004afaf-83c6-4a83-9b07-210b170fec78",
   "metadata": {},
   "source": [
    "As we can see in the map above, the geographical representation of areas includes water bodies (rivers, canals, lakes, etc.) for our future analysis it is necessary to exclude some objects from the data.\n",
    "\n",
    "For this purpose, we will use geodata of coastline of Sweden.<br><br>\n",
    "\n",
    "You can find Geopackages file EEA coastline Polygon on [European Environment Agency](https://www.eea.europa.eu/data-and-maps/data/eea-coastline-for-analysis-2/gis-data/eea-coastline-polygon)\n"
   ]
  },
  {
   "cell_type": "code",
   "execution_count": 8,
   "id": "8d7ef08d-9f88-410b-ada5-434d71e2e011",
   "metadata": {},
   "outputs": [],
   "source": [
    "# # Parquet file with coastline of Sweden CRS: EPSG:3006\n",
    "# coastline = gpd.read_parquet(\n",
    "#     \"Data/SE_Coastline.parquet\"\n",
    "# )\n",
    "# coastline.columns = coastline.columns.str.lower()\n",
    "# coastline_unary = coastline.geometry.unary_union\n",
    "# # Create the GeoDataFrame for the bounding box\n",
    "# se_bbox = gpd.GeoDataFrame({'geometry': [coastline_unary]}, crs=coastline.crs)"
   ]
  },
  {
   "cell_type": "code",
   "execution_count": 9,
   "id": "f5029adb-d3dd-4b2c-916d-5fda39bde2e8",
   "metadata": {},
   "outputs": [],
   "source": [
    "# # Slice regso_city with coastline\n",
    "# regso_city = gpd.overlay(regso_city.to_crs(CRS), se_bbox, how='intersection')"
   ]
  },
  {
   "cell_type": "code",
   "execution_count": 10,
   "id": "0d00fc30-0016-4247-a70e-3d03010e2af9",
   "metadata": {},
   "outputs": [],
   "source": [
    "# # Plot the polygons on the map\n",
    "# regso_city.to_crs(4326).explore()"
   ]
  },
  {
   "cell_type": "code",
   "execution_count": 11,
   "id": "6f706a74-931f-49b1-bf54-511fa08e06e5",
   "metadata": {},
   "outputs": [],
   "source": [
    "# del coastline\n",
    "# del coastline_unary"
   ]
  },
  {
   "cell_type": "markdown",
   "id": "76d36e76-c361-4569-9738-471ff184e6c6",
   "metadata": {},
   "source": [
    "### RegSo transformation"
   ]
  },
  {
   "cell_type": "markdown",
   "id": "a145ce8b-7c99-44e5-be5d-8015c1642cff",
   "metadata": {},
   "source": [
    "- Processing data by districts (RegSo) of the city of Malmö `malmo_regso.parquet`\n",
    "    - Transforming the dataset `malmo_regso.parquet` with district (RegSo) geopolygons into a dataset with H3 objects and district features (resolution = 9)."
   ]
  },
  {
   "cell_type": "code",
   "execution_count": 12,
   "id": "e610ca74-f309-4169-b77a-d125d49f735e",
   "metadata": {},
   "outputs": [
    {
     "name": "stdout",
     "output_type": "stream",
     "text": [
      "Shape of h3_regso_city: (2028, 4)\n"
     ]
    }
   ],
   "source": [
    "# Adding h3 to RegSo\n",
    "h3_regso_city = (regso_city.to_crs(WGS).h3.polyfill(9, explode=True)\n",
    "                      .dropna().set_index('h3_polyfill', drop=True)).h3.h3_to_geo_boundary()\n",
    "print(f\"Shape of h3_regso_city: {h3_regso_city.shape}\")"
   ]
  },
  {
   "cell_type": "code",
   "execution_count": 13,
   "id": "ee933fc7-b65d-4d6f-939c-f28f11f619f1",
   "metadata": {},
   "outputs": [],
   "source": [
    "# # Plot the polygons on the map\n",
    "# h3_regso_city.to_crs(4326).explore()"
   ]
  },
  {
   "cell_type": "markdown",
   "id": "f0541042-2931-4369-952c-9620c4973b2c",
   "metadata": {},
   "source": [
    "## Target (outgoing trips)"
   ]
  },
  {
   "cell_type": "markdown",
   "id": "16c4167c-d559-4a55-afdd-2a740c9e6b12",
   "metadata": {},
   "source": [
    "- Loading a dataset containing information on the number of outgoing trips from each h3 polygon for which data is available on the observation date. (01/06/23-02/06/23)"
   ]
  },
  {
   "cell_type": "markdown",
   "id": "b9640fb7-3b72-4857-addd-ac1ca4201457",
   "metadata": {},
   "source": [
    "- Upload targets h3\n",
    "- Add features to `h3_regso_city` is h3 area include outgoing trips or not ('targets_intersects')"
   ]
  },
  {
   "cell_type": "markdown",
   "id": "6334cc14-ab74-4358-b4f7-5ef9166d247a",
   "metadata": {},
   "source": [
    "### Upload target"
   ]
  },
  {
   "cell_type": "code",
   "execution_count": 14,
   "id": "ec5ea124-44eb-401e-8f42-a4e0b9a6eab2",
   "metadata": {},
   "outputs": [
    {
     "name": "stdout",
     "output_type": "stream",
     "text": [
      "Shape of h3_target: (468, 1)\n"
     ]
    }
   ],
   "source": [
    "# Upload raw data frame with targets\n",
    "h3_target = pd.read_csv(f'{RAW_DATA_PATH}/malmo_outgoing_trips.csv').set_index('hex')\n",
    "print(f\"Shape of h3_target: {h3_target.shape}\")"
   ]
  },
  {
   "cell_type": "markdown",
   "id": "d9dc793d-0c59-4dd8-ac7e-603f8640af00",
   "metadata": {},
   "source": [
    "## Combine RegSo and target"
   ]
  },
  {
   "cell_type": "markdown",
   "id": "bedc6466-739a-4165-bd26-7f5011376336",
   "metadata": {},
   "source": [
    "- Add a feature indicating whether rental points are present in the district (whether there are trips from this area) `targets_intersects`.\n",
    "    - This is necessary for analyzing the feature space of districts where infrastructure is absent but rental points may be established in the futureure."
   ]
  },
  {
   "cell_type": "code",
   "execution_count": 15,
   "id": "55135419-8cc6-4c05-9a58-aa57b0c0a58f",
   "metadata": {},
   "outputs": [
    {
     "name": "stdout",
     "output_type": "stream",
     "text": [
      "Shape of h3_regso_city: (2028, 6)\n"
     ]
    }
   ],
   "source": [
    "# Create new column with values of outgoing_trips and boolean values\n",
    "\n",
    "if \"outgoing_trips\" in(h3_regso_city.columns):\n",
    "    pass\n",
    "else:\n",
    "    h3_regso_city = h3_regso_city.join(h3_target)\n",
    "    regsokod_intersects = ((h3_regso_city.groupby(\"regsokod\")[\"outgoing_trips\"]\n",
    "                            .sum()) > 0).to_frame().reset_index().rename(columns={\"outgoing_trips\": \"targets_intersects\"})\n",
    "    h3_regso_city = h3_regso_city.reset_index().merge(regsokod_intersects, on=\"regsokod\").set_index(\"h3_polyfill\")\n",
    "    h3_regso_city.fillna(0.0, inplace=True)\n",
    "    print(f\"Shape of h3_regso_city: {h3_regso_city.shape}\")"
   ]
  },
  {
   "cell_type": "markdown",
   "id": "363c06e9-cac6-424e-bda5-0404420add5b",
   "metadata": {},
   "source": [
    "### Export h3_regso_city"
   ]
  },
  {
   "cell_type": "code",
   "execution_count": 16,
   "id": "2059671e-67c3-48b1-9d85-449cc8dd7434",
   "metadata": {},
   "outputs": [],
   "source": [
    "# Export h3_regso_city to temp dir\n",
    "h3_regso_city.to_parquet(f'{TEMP_DATA_PATH}/h3_regso_city.parquet')"
   ]
  },
  {
   "cell_type": "markdown",
   "id": "43568ad0-c38c-4b71-811b-ae3f266c04b1",
   "metadata": {},
   "source": [
    "### Export h3_features"
   ]
  },
  {
   "cell_type": "code",
   "execution_count": 17,
   "id": "6996028f-a39f-4592-8c76-0393d1e7364f",
   "metadata": {},
   "outputs": [],
   "source": [
    "# Create df with features and export\n",
    "h3_features = h3_regso_city.copy()\n",
    "h3_features.to_parquet(f'{FEATURE_PATH}/h3_features.parquet')"
   ]
  },
  {
   "cell_type": "code",
   "execution_count": null,
   "id": "9e3b73ac-2d2b-4b50-84cb-57efa64b2d5b",
   "metadata": {},
   "outputs": [],
   "source": []
  },
  {
   "cell_type": "code",
   "execution_count": null,
   "id": "04185e6f-15fb-4991-bc80-b17aa7260f9e",
   "metadata": {},
   "outputs": [],
   "source": [
    "# Plot number of outgoing trips\n",
    "h3_features.query(\"outgoing_trips > 1\").explore(tooltip=\"outgoing_trips\",\n",
    "                    popup=False,\n",
    "                    column=\"outgoing_trips\",\n",
    "                    tiles=\"CartoDB positron\",\n",
    "                    cmap=\"plasma\",\n",
    "                    style_kwds=dict(color=\"white\", weight=0.2, fillOpacity=0.5))"
   ]
  },
  {
   "cell_type": "markdown",
   "id": "23f83592-3e54-4155-88b2-9344363850ae",
   "metadata": {},
   "source": [
    "#### Number of outgoing trips in Malmo\n",
    "\n",
    "![outgoing trips](Data/outgoing_trips.jpeg)"
   ]
  },
  {
   "cell_type": "markdown",
   "id": "bf0ada40-b16f-4f77-9b2f-b26afab30aeb",
   "metadata": {},
   "source": [
    "## Landuse features"
   ]
  },
  {
   "cell_type": "markdown",
   "id": "41365a54-1e5e-4726-a7ea-d83e86adffb1",
   "metadata": {},
   "source": [
    "- "
   ]
  },
  {
   "cell_type": "code",
   "execution_count": 18,
   "id": "d7ccc46e-67bc-43a5-ab40-7e5db7140e36",
   "metadata": {},
   "outputs": [],
   "source": [
    "# Create dict with features as keys and osm tags as values\n",
    "landuse_osm = {\n",
    "    \"f0\": {\"landuse\":\"residential\"},\n",
    "    \"f01\": {\"landuse\":[\"allotments\", \"farmland\", \"village_green\"]},\n",
    "    \"f03\": {\"landuse\":[\"commercial\", \"retail\"]},\n",
    "    \"f04\": {\"landuse\":[\"industrial\", \"quarry\"]},\n",
    "    \"f05\": {\"landuse\":[\"reservoir\"], \"natural\":[\"water\",\"river\"], \"water\":[\"river\"]},\n",
    "    \"f06\": {\"landuse\":\"landfill\"},\n",
    "    \"f07\": {\"landuse\":\"garages\"},\n",
    "    \"f08\": {\"landuse\":\"railway\"},\n",
    "    \"f12\": {\"landuse\":\"military\"},\n",
    "    \"f13\": {\"landuse\":\"basin\"},\n",
    "    \"f14\": {\"landuse\":[\"construction\", \"brownfield\", \"proposed\", \"greenfield\"]},\n",
    "    \"f15\": {\"landuse\":[\"farmyard\", \"animal_keeping\", \"vineyard\", \"orchard\", \"shrubs\", \"greenhouse_horticulture\"]},\n",
    "    \"f16\": {\"landuse\":[\"religious\", \"cemetery\"]},\n",
    "    \"f17\": {\"landuse\":\"education\"},\n",
    "    \"f18\": {\"landuse\":[\"forest\", \"meadow\", \"flowerbed\", \"recreation ground\"], #, \"grass\"\n",
    "            \"leisure\":[\"park\", \"garden\"], \"natural\":[\"wood\"]}\n",
    "}"
   ]
  },
  {
   "cell_type": "markdown",
   "id": "fa11c619-4f16-4099-a2cb-3446163dd14d",
   "metadata": {},
   "source": [
    "<div style=\"background-color:lightgreen; padding:10px;\">\n",
    "Load data with features from OSM using osmnx.\n",
    "\n",
    "\n",
    "- Internet connection is required.\n",
    "  \n",
    "</div>."
   ]
  },
  {
   "cell_type": "code",
   "execution_count": null,
   "id": "04b7b742-2411-4e9e-9256-b7c55bb99969",
   "metadata": {},
   "outputs": [],
   "source": [
    "# Extract (upload) from osm data for features\n",
    "for index, feature in enumerate(landuse_osm):\n",
    "    values_list = list(landuse_osm.values())\n",
    "    tags = values_list[index]\n",
    "    if len(tags) == 1:\n",
    "        tag = list(tags)[0]\n",
    "        try:\n",
    "            gdf = ((ox.features_from_place(PLACE, tags).reset_index())\n",
    "                   [[\"osmid\", str(tag), \"geometry\"]]).to_crs(WGS)\n",
    "            gdf.to_parquet(f\"{LANDUSE_PATH}/{feature}.parquet\")\n",
    "            print(f\"{feature}\")\n",
    "        except Exception as e:\n",
    "            print(f\"{feature} {e}\")\n",
    "    else:\n",
    "        gdf_list = []\n",
    "        for item in range(len(tags)):\n",
    "            tag = list(tags)[item]\n",
    "            dict_item = {list(tags.keys())[item]: list(tags.values())[item]}\n",
    "            try:\n",
    "                gdf = ((ox.features_from_place(PLACE, dict_item).reset_index())\n",
    "                   [[\"osmid\", str(tag), \"geometry\"]]).to_crs(WGS).rename(columns={str(tag):\"landuse\"})\n",
    "                gdf_list.append(gdf)\n",
    "            except Exception as e:\n",
    "                print(f\"{feature} {e}\")\n",
    "        result = pd.concat(gdf_list, ignore_index=True, copy=False)\n",
    "\n",
    "        # Export files with data of features\n",
    "        result.to_parquet(f\"{LANDUSE_PATH}/{feature}.parquet\")\n",
    "        print(f\"{feature}\")\n",
    "        \n",
    "# Delete the temporal variables\n",
    "del gdf_list\n",
    "del gdf"
   ]
  },
  {
   "cell_type": "code",
   "execution_count": 18,
   "id": "115227ce-d547-417f-995b-9da4ff35001a",
   "metadata": {},
   "outputs": [
    {
     "name": "stdout",
     "output_type": "stream",
     "text": [
      "Shape before:  (312, 3)\n",
      "Shape after:  (312, 3)\n"
     ]
    }
   ],
   "source": [
    "# Clear f18 feature\n",
    "f18 = gpd.read_parquet(f\"{LANDUSE_PATH}/f18.parquet\")\n",
    "print(\"Shape before: \", f18.shape)\n",
    "f18[\"area\"] = f18.to_crs(CRS)[\"geometry\"].area\n",
    "f18 = f18.query(\"area > 10000\").drop(columns=[\"area\"])\n",
    "\n",
    "print(\"Shape after: \", f18.shape)\n",
    "# Update f18 file\n",
    "f18.to_parquet(f\"{LANDUSE_PATH}/f18.parquet\")"
   ]
  },
  {
   "cell_type": "markdown",
   "id": "36de7b9f-c8e2-4b2d-9dc1-26d322da05e0",
   "metadata": {},
   "source": [
    "### Create h3_features_landuse"
   ]
  },
  {
   "cell_type": "markdown",
   "id": "9af93ac3-c12c-4df1-9e5b-40519ec0e945",
   "metadata": {},
   "source": [
    "- Extract information from landuse features files and aply to h3\n",
    "- For landuse features extract information is h3 overlaps the polygons of landuse"
   ]
  },
  {
   "cell_type": "code",
   "execution_count": 19,
   "id": "261bcb19-0267-4a86-87aa-9b15e4080afc",
   "metadata": {},
   "outputs": [],
   "source": [
    "# Create a list of Paths for landuse features files\n",
    "f_files = sorted(list(LANDUSE_PATH.glob(\"f*.parquet\")))"
   ]
  },
  {
   "cell_type": "code",
   "execution_count": 20,
   "id": "eb64274c-39ea-4850-97d6-1309c58a3304",
   "metadata": {},
   "outputs": [],
   "source": [
    "# Change crs of gdf\n",
    "h3_ = h3_regso_city[[\"geometry\"]].to_crs(CRS)"
   ]
  },
  {
   "cell_type": "code",
   "execution_count": 21,
   "id": "d9a1394b-b33b-4640-9b81-543576badc5b",
   "metadata": {},
   "outputs": [
    {
     "name": "stdout",
     "output_type": "stream",
     "text": [
      "f0 Done\n",
      "f01 Done\n",
      "f03 Done\n",
      "f04 Done\n",
      "f05 Done\n",
      "f07 Done\n",
      "f08 Done\n",
      "f12 Done\n",
      "f13 Done\n",
      "f14 Done\n",
      "f15 Done\n",
      "f16 Done\n",
      "f17 Done\n",
      "f18 Done\n",
      "Overall time taken: 2 minutes and 6.66 seconds\n"
     ]
    }
   ],
   "source": [
    "# Start time\n",
    "start_time = time.time()\n",
    "\n",
    "# Generate features \n",
    "for _ in range(len(f_files)):\n",
    "    temp_file = gpd.read_parquet(f\"{f_files[_]}\")\n",
    "    column_name = f_files[_].stem\n",
    "    union = temp_file.to_crs(CRS)[\"geometry\"].unary_union\n",
    "    h3_[str(column_name)] = (h3_[\"geometry\"].intersects(union).astype('int')) #1_overlaps #3_intersects\n",
    "    print(f\"{column_name} Done\")\n",
    "\n",
    "# End time\n",
    "end_time = time.time()\n",
    "\n",
    "# Calculate overall time taken in seconds\n",
    "overall_time_seconds = end_time - start_time\n",
    "\n",
    "# Convert overall time to minutes and seconds\n",
    "overall_minutes, overall_seconds = divmod(overall_time_seconds, 60)\n",
    "\n",
    "print(\"Overall time taken: {} minutes and {:.2f} seconds\".format(int(overall_minutes), overall_seconds))"
   ]
  },
  {
   "cell_type": "markdown",
   "id": "d284fa41-af1c-4e0f-9bc9-05eb6c6c713b",
   "metadata": {},
   "source": [
    "### Export h3_features_landuse"
   ]
  },
  {
   "cell_type": "code",
   "execution_count": 22,
   "id": "cba9d774-77cb-4ede-9024-58850db18527",
   "metadata": {},
   "outputs": [],
   "source": [
    "# Export gdf with landuse features\n",
    "h3_.to_parquet(f'{TEMP_DATA_PATH}/h3_features_landuse.parquet')"
   ]
  },
  {
   "cell_type": "markdown",
   "id": "a2cc48c1-3d69-4596-a3f6-03173454a255",
   "metadata": {},
   "source": [
    "### Update h3_features"
   ]
  },
  {
   "cell_type": "code",
   "execution_count": 23,
   "id": "4c41b96f-17eb-4173-91d9-997ddd3830bb",
   "metadata": {},
   "outputs": [],
   "source": [
    "# # Add features_landuse to h3_features\n",
    "# h3_features = h3_regso_city.join(h3_.drop(columns=\"geometry\"))\n",
    "# h3_features.to_parquet(f'{FEATURE_PATH}/h3_features.parquet')"
   ]
  },
  {
   "cell_type": "markdown",
   "id": "78a5cb96-e8a1-4d4b-b57a-d733abd89249",
   "metadata": {},
   "source": [
    "## K-ring features"
   ]
  },
  {
   "cell_type": "markdown",
   "id": "db96d1e8-c464-42ae-91d9-23fd14c4e88f",
   "metadata": {},
   "source": [
    "- "
   ]
  },
  {
   "cell_type": "code",
   "execution_count": 24,
   "id": "73c460cb-c800-4634-b4ad-b5717eb87e2c",
   "metadata": {},
   "outputs": [],
   "source": [
    "# Create dict with features as keys and osm tags as values\n",
    "kring_osm = {\n",
    "    \"f20\": {\"amenity\": [\"restaurant\", \"pub\", \"bar\", \"cafe\", \"fast_food\", \"food_court\"],\n",
    "            \"shop\": [\"general\", \"supermarket\", \"grocery\"]},\n",
    "    \"f21\": {\"leisure\": [\"sports_centre\", \"sports_hall\", \"stadium\", \"track\", \"pitch\", ]}, #\"swimming_pool\"\n",
    "    \"f22\": {\"tourism\":[\"hotel\", \"guest_house\", \"apartment\"]},\n",
    "    \n",
    "    \"f25\": {\"healthcare\":[\"clinic\", \"hospital\"], \"amenity\": [\"clinic\", \"hospital\", \"retirement_home\"]},\n",
    "    \"f26\": {\"amenity\": [\"school\"]},\n",
    "    \"f27\": {\"amenity\": [\"kindergarten\"]},\n",
    "    \n",
    "    \"f28\": {\"tourism\": [\"museum\", \"gallery\"], \"amenity\": [\"arts_centre\", \"theatre\"]},\n",
    "    \"f29\": {\"amenity\": [\"library\"]},\n",
    "    \"f30\": {\"amenity\": [\"courthouse\", \"townhall\"], \"office\": [\"government\"]},\n",
    "    \"f31\": {\"amenity\": [\"fountain\"], \"leisure\": [\"water_park\"], \"tourism\":[\"attraction\", \"theme_park\", 'viewpoint']}\n",
    "}"
   ]
  },
  {
   "cell_type": "markdown",
   "id": "e419fc35-6b9b-4395-b696-8c433b66e562",
   "metadata": {},
   "source": [
    "<div style=\"background-color:lightgreen; padding:10px;\">\n",
    "\n",
    "Load data with features from OSM using osmnx.\n",
    "\n",
    "\n",
    "- Internet connection is required.\n",
    "</div>"
   ]
  },
  {
   "cell_type": "code",
   "execution_count": 28,
   "id": "41df872e-eefd-43b4-adfe-7a0a00e9f269",
   "metadata": {},
   "outputs": [
    {
     "name": "stdout",
     "output_type": "stream",
     "text": [
      "f20\n",
      "f21\n",
      "f22\n",
      "f25\n",
      "f26\n",
      "f27\n",
      "f28\n",
      "f29\n",
      "f30\n",
      "f31\n"
     ]
    }
   ],
   "source": [
    "# Extract (upload) from osm data for features\n",
    "for index, feature in enumerate(kring_osm):\n",
    "    values_list = list(kring_osm.values())\n",
    "    tags = values_list[index]\n",
    "    if len(tags) == 1:\n",
    "        tag = list(tags)[0]\n",
    "        try:\n",
    "            gdf = ((ox.features_from_place(PLACE, tags).reset_index())\n",
    "                   [[\"osmid\", str(tag), \"geometry\"]]).to_crs(CRS)\n",
    "            gdf['centroid'] = gdf.geometry.to_crs(CRS).centroid\n",
    "            gdf = (gdf.drop(columns=['geometry'])\n",
    "                   .rename(columns={str(tag):\"type\", \"centroid\":\"geometry\"})\n",
    "                   .set_geometry('geometry'))\n",
    "            gdf.to_parquet(f\"{POI_PATH}/{feature}.parquet\")\n",
    "            print(f\"{feature}\")\n",
    "        except Exception as e:\n",
    "            print(f\"{feature} {e}\")\n",
    "    else:\n",
    "        gdf_list = []\n",
    "        for item in range(len(tags)):\n",
    "            tag = list(tags)[item]\n",
    "            dict_item = {list(tags.keys())[item]: list(tags.values())[item]}\n",
    "            try:\n",
    "                gdf = ((ox.features_from_place(PLACE, dict_item).reset_index())\n",
    "                   [[\"osmid\", str(tag), \"geometry\"]]).to_crs(CRS).rename(columns={str(tag):\"type\"})\n",
    "                gdf['centroid'] = gdf.geometry.to_crs(CRS).centroid\n",
    "                gdf = (gdf.drop(columns=['geometry'])\n",
    "                       .rename(columns={str(tag):\"type\", \"centroid\":\"geometry\"})\n",
    "                       .set_geometry('geometry'))\n",
    "                gdf_list.append(gdf)\n",
    "            except Exception as e:\n",
    "                print(f\"{feature} {e}\")\n",
    "        result = pd.concat(gdf_list, ignore_index=True, copy=False)\n",
    "\n",
    "        # Export files with data of features\n",
    "        result.to_parquet(f\"{POI_PATH}/{feature}.parquet\")\n",
    "        print(f\"{feature}\")"
   ]
  },
  {
   "cell_type": "markdown",
   "id": "26d44f91-3e4f-4b45-ac37-ebcf59c595d4",
   "metadata": {},
   "source": [
    "### Calculating POI for h3 neighbors"
   ]
  },
  {
   "cell_type": "code",
   "execution_count": 25,
   "id": "37582d46-157e-4c81-8cf3-e5ddcc6cd0b9",
   "metadata": {},
   "outputs": [],
   "source": [
    "# Define the function to sjoin POI to h3\n",
    "def poi_to_h3(h3_gdf, poi_gdf):\n",
    "    h3_poi = ((gpd.sjoin(h3_gdf.to_crs(CRS), poi_gdf.to_crs(CRS)))\n",
    "        .reset_index()\n",
    "        .groupby('h3_polyfill')['index_right'].count()).to_frame()\n",
    "    return h3_poi"
   ]
  },
  {
   "cell_type": "code",
   "execution_count": 26,
   "id": "3ec37c00-e15a-410f-ae72-0ed8d90fa170",
   "metadata": {},
   "outputs": [],
   "source": [
    "# Define the function to calculate the sum of values for H3 neighbors\n",
    "\n",
    "\n",
    "def calculate_neighbor_sum(x, data_frame, value_column):\n",
    "    hex_neighbors = h3.k_ring(x, 1)  # Get the H3 neighbors within the ring of radius 1\n",
    "    data_frame = data_frame.reset_index()\n",
    "    neighbor_sum = data_frame.loc[data_frame['h3_polyfill'].isin(hex_neighbors)][value_column].sum()\n",
    "    return neighbor_sum"
   ]
  },
  {
   "cell_type": "code",
   "execution_count": 27,
   "id": "fab83909-23a9-4890-b4d9-cc9c8b8e3204",
   "metadata": {},
   "outputs": [],
   "source": [
    "# Create a list of Paths for poi features files\n",
    "f_files = sorted(list(POI_PATH.glob(\"f*.parquet\")))"
   ]
  },
  {
   "cell_type": "code",
   "execution_count": 28,
   "id": "96552800-97d3-4647-97e8-e0655cbec79a",
   "metadata": {},
   "outputs": [
    {
     "name": "stdout",
     "output_type": "stream",
     "text": [
      "Done\n"
     ]
    }
   ],
   "source": [
    "# Count all POI for each h3 neighbors\n",
    "h3_poi = (h3_regso_city[[\"geometry\"]]).reset_index()\n",
    "for _ in range(len(f_files)):\n",
    "    temp_file = gpd.read_parquet(f\"{f_files[_]}\")\n",
    "    column_name = f_files[_].stem\n",
    "    h3_temp = poi_to_h3(h3_poi, temp_file[[\"geometry\"]])\n",
    "    h3_poi[str(column_name)] = h3_poi[\"h3_polyfill\"].apply(lambda x: calculate_neighbor_sum(x, h3_temp, \"index_right\"))\n",
    "print(\"Done\")"
   ]
  },
  {
   "cell_type": "markdown",
   "id": "1eb039b6-bb50-4c4a-9375-a25166efccb3",
   "metadata": {},
   "source": [
    "### Export h3_features_poi"
   ]
  },
  {
   "cell_type": "code",
   "execution_count": 29,
   "id": "23baa251-124e-42cd-b55e-186c699f70ca",
   "metadata": {},
   "outputs": [],
   "source": [
    "# Export file\n",
    "h3_poi.set_index('h3_polyfill', drop=True).to_parquet(f\"{TEMP_DATA_PATH}/h3_features_poi.parquet\")"
   ]
  },
  {
   "cell_type": "markdown",
   "id": "49479fa9-0192-438f-abd4-056da9578e64",
   "metadata": {},
   "source": [
    "### Update h3_features"
   ]
  },
  {
   "cell_type": "code",
   "execution_count": 30,
   "id": "47e7f058-0443-43cc-af57-3927bf0fdf23",
   "metadata": {},
   "outputs": [],
   "source": [
    "# # Update file h3_features\n",
    "# h3_features = h3_features.join(h3_poi.set_index('h3_polyfill', drop=True).drop(columns=\"geometry\"))\n",
    "# h3_features.to_parquet(f\"{FEATURE_PATH}/h3_features.parquet\")"
   ]
  },
  {
   "cell_type": "markdown",
   "id": "e20f98e0-2628-40b6-8994-16c25762df9e",
   "metadata": {},
   "source": [
    "## Distance features"
   ]
  },
  {
   "cell_type": "code",
   "execution_count": 31,
   "id": "1368e9e9-76cf-44d7-afb0-520da7d54b32",
   "metadata": {},
   "outputs": [],
   "source": [
    "# Create dict with features as keys and osm tags as values\n",
    "dist_osm = {\n",
    "    \"f32\": {\"amenity\": [\"university\"]}, #, \"college\"\n",
    "    \"f33\": {\"amenity\": [\"bus_station\"], \"highway\": [\"bus_stop\"]},\n",
    "    \"f34\": {\"railway\": ['station', 'subway_entrance']}, # 'tram_stop'\n",
    "    \"f35\": {\"highway\":[\"cycleway\"]},\n",
    "    \"f36\": {\"highway\": [\"residential\", \"tertiary\"]},\n",
    "    \"f37\": {\"shop\": [\"mall\"]}\n",
    "}"
   ]
  },
  {
   "cell_type": "markdown",
   "id": "f717b5a3-8bb1-45ac-9cb4-0a6eac71093b",
   "metadata": {},
   "source": [
    "<div style=\"background-color:lightgreen; padding:10px;\">\n",
    "\n",
    "Load data with features from OSM using osmnx.\n",
    "\n",
    "\n",
    "- Internet connection is required.\n",
    "</div>"
   ]
  },
  {
   "cell_type": "code",
   "execution_count": 36,
   "id": "b0f011a3-9ab9-40d2-bb31-5849c0295775",
   "metadata": {},
   "outputs": [
    {
     "name": "stdout",
     "output_type": "stream",
     "text": [
      "f32\n",
      "f33\n",
      "f34\n",
      "f35\n",
      "f36\n",
      "f37\n"
     ]
    }
   ],
   "source": [
    "# Extract (upload) from osm data for features\n",
    "for index, feature in enumerate(dist_osm):\n",
    "    values_list = list(dist_osm.values())\n",
    "    tags = values_list[index]\n",
    "    if len(tags) == 1:\n",
    "        tag = list(tags)[0]\n",
    "        try:\n",
    "            gdf = ((ox.features_from_place(PLACE, tags).reset_index())\n",
    "                   [[\"osmid\", str(tag), \"geometry\"]]).to_crs(WGS)\n",
    "            gdf.to_parquet(f\"{DIST_PATH}/{feature}.parquet\")\n",
    "            print(f\"{feature}\")\n",
    "        except Exception as e:\n",
    "            print(f\"{feature} {e}\")\n",
    "    else:\n",
    "        gdf_list = []\n",
    "        for item in range(len(tags)):\n",
    "            tag = list(tags)[item]\n",
    "            dict_item = {list(tags.keys())[item]: list(tags.values())[item]}\n",
    "            try:\n",
    "                gdf = ((ox.features_from_place(PLACE, dict_item).reset_index())\n",
    "                   [[\"osmid\", str(tag), \"geometry\"]]).to_crs(WGS).rename(columns={str(tag):\"landuse\"})\n",
    "                gdf_list.append(gdf)\n",
    "            except Exception as e:\n",
    "                print(f\"{feature} {e}\")\n",
    "        result = pd.concat(gdf_list, ignore_index=True, copy=False)\n",
    "\n",
    "        # Export files with data of features\n",
    "        result.to_parquet(f\"{DIST_PATH}/{feature}.parquet\")\n",
    "        print(f\"{feature}\")"
   ]
  },
  {
   "cell_type": "code",
   "execution_count": 32,
   "id": "4b25a0c0-65f9-460a-a457-f94a2a520e58",
   "metadata": {},
   "outputs": [],
   "source": [
    "# Create a list of Paths for dist features files\n",
    "f_files = sorted(list(DIST_PATH.glob(\"f*.parquet\")))"
   ]
  },
  {
   "cell_type": "code",
   "execution_count": 33,
   "id": "b509a4e6-00aa-4f7e-971d-e83a7b61d000",
   "metadata": {},
   "outputs": [
    {
     "name": "stdout",
     "output_type": "stream",
     "text": [
      "Done\n"
     ]
    }
   ],
   "source": [
    "# Calculate distance to near feature\n",
    "h3_centroid = h3_regso_city[[\"geometry\"]].copy()\n",
    "h3_centroid[\"centroid\"] = h3_centroid.geometry.to_crs(CRS).centroid\n",
    "h3_centroid = (h3_centroid.set_geometry('centroid')).drop(columns=\"geometry\")\n",
    "\n",
    "for _ in range(len(f_files)):\n",
    "    temp_file = gpd.read_parquet(f\"{f_files[_]}\").to_crs(CRS) #.explode() #(index_parts=True)\n",
    "    temp_file[\"geom\"] = temp_file.geometry\n",
    "    column_name = f_files[_].stem\n",
    "    temp_dist = (gpd.sjoin_nearest\n",
    "                             (h3_centroid, temp_file,how='inner',distance_col=f'{column_name}'))\n",
    "    \n",
    "    temp_dist = (temp_dist[[f'{column_name}']].reset_index()\n",
    "                     .drop_duplicates('h3_polyfill',keep='last',).set_index('h3_polyfill',drop=True))\n",
    "    h3_centroid = h3_centroid.join(temp_dist)\n",
    "\n",
    "h3_centroid.drop(columns=\"centroid\", inplace=True)\n",
    "print(\"Done\")"
   ]
  },
  {
   "cell_type": "markdown",
   "id": "b3f92d43-c680-42b6-b97b-fe86a13c26ed",
   "metadata": {},
   "source": [
    "### Export h3_features_dist"
   ]
  },
  {
   "cell_type": "code",
   "execution_count": 34,
   "id": "acb3aeb0-0216-4a01-80e8-786ea45572aa",
   "metadata": {},
   "outputs": [],
   "source": [
    "# Export file\n",
    "h3_centroid.to_parquet(f\"{TEMP_DATA_PATH}/h3_features_dist.parquet\")"
   ]
  },
  {
   "cell_type": "markdown",
   "id": "9db0757d-7b0f-41d7-9a38-fff9b46ab947",
   "metadata": {},
   "source": [
    "### Update h3_features"
   ]
  },
  {
   "cell_type": "code",
   "execution_count": 35,
   "id": "07737e6a-28cd-4fb2-b4a9-87c7b2306121",
   "metadata": {},
   "outputs": [],
   "source": [
    "# # Add features_dist to h3_features\n",
    "# h3_features = h3_features.join(h3_centroid)\n",
    "# h3_features.to_parquet(f'{FEATURE_PATH}/h3_features.parquet')"
   ]
  },
  {
   "cell_type": "markdown",
   "id": "be3ebf13-bf7e-444b-964f-b60d7ebdfdc2",
   "metadata": {},
   "source": [
    "## Buildings features"
   ]
  },
  {
   "cell_type": "markdown",
   "id": "f5904b8f-075b-4963-8201-9ada03b70004",
   "metadata": {},
   "source": [
    "<div style=\"background-color:lightgreen; padding:10px;\">\n",
    "\n",
    "Load data with features from OSM using osmnx.\n",
    "\n",
    "\n",
    "- Internet connection is required.\n",
    "</div>"
   ]
  },
  {
   "cell_type": "code",
   "execution_count": null,
   "id": "1d261cd4-0deb-40e5-855c-4c0255c9ad89",
   "metadata": {},
   "outputs": [],
   "source": [
    "# Extract (upload) buildings feature from osm\n",
    "dict_item = {\"building\": True}\n",
    "buildings_feature = ((ox.features_from_place(PLACE, dict_item).reset_index())\n",
    "                   [[\"osmid\", \"building\", \"geometry\"]]).to_crs(CRS)\n",
    "\n",
    "buildings_feature = buildings_feature[buildings_feature.geometry.geom_type != 'Point']\n",
    "print(\"Done\")\n",
    "# Export file\n",
    "buildings_feature.to_parquet(f\"{TEMP_DATA_PATH}/h3_buildings.parquet\")"
   ]
  },
  {
   "cell_type": "code",
   "execution_count": null,
   "id": "b3ee4f6c-ba91-4a3c-a0b1-f27fc20a007e",
   "metadata": {},
   "outputs": [],
   "source": []
  },
  {
   "cell_type": "markdown",
   "id": "97ca085a-e5f7-48f4-9318-fd1e183f7eee",
   "metadata": {},
   "source": [
    "### Calculating the area of buildings for h3 cells"
   ]
  },
  {
   "cell_type": "code",
   "execution_count": 36,
   "id": "a72057c0-800e-4208-940f-1f3e11545421",
   "metadata": {},
   "outputs": [
    {
     "name": "stdout",
     "output_type": "stream",
     "text": [
      "Done\n"
     ]
    }
   ],
   "source": [
    "# Create temp gdf\n",
    "h3_regso_city_crs = h3_regso_city[[\"geometry\"]].to_crs(CRS)\n",
    "buildings_feature = gpd.read_parquet(f\"{TEMP_DATA_PATH}/h3_buildings.parquet\")\n",
    "unary = buildings_feature.to_crs(CRS).unary_union\n",
    "intersection_areas = []\n",
    "# intersection_true = []\n",
    "\n",
    "for index, row in h3_regso_city_crs.iterrows():\n",
    "    # Perform the intersection with the MultiPolygon\n",
    "    intersection = row['geometry'].intersection(unary)\n",
    "    \n",
    "    # Calculate the area of the intersection and append it to the list\n",
    "    intersection_area = intersection.area\n",
    "    intersection_areas.append(intersection_area)\n",
    "    # intersection_ = int(intersection_area != 0)\n",
    "    # intersection_true.append(intersection_)\n",
    "    \n",
    "# Add a new column 'intersection_area' to the gdf\n",
    "h3_regso_city_crs['intersection_area'] = intersection_areas\n",
    "# h3_regso_city_crs['f19_1'] = intersection_true\n",
    "h3_regso_city_crs[\"f19\"] = h3_regso_city_crs[\"intersection_area\"] / 105332.5 # !!!\n",
    "print(\"Done\")"
   ]
  },
  {
   "cell_type": "markdown",
   "id": "a832c295-6f04-4b33-9bc3-b1d339ab8f34",
   "metadata": {},
   "source": [
    "### Export h3_features_buildings"
   ]
  },
  {
   "cell_type": "code",
   "execution_count": 37,
   "id": "ab0f0433-f482-4d81-a889-f44bad6ac60c",
   "metadata": {},
   "outputs": [],
   "source": [
    "# Export file\n",
    "h3_regso_city_crs.to_parquet(f\"{TEMP_DATA_PATH}/h3_features_buildings.parquet\")"
   ]
  },
  {
   "cell_type": "markdown",
   "id": "6bcf33a5-e98b-4498-922a-34c8c1a813a7",
   "metadata": {},
   "source": [
    "### Update h3_features"
   ]
  },
  {
   "cell_type": "code",
   "execution_count": 38,
   "id": "679006e0-3cac-4b5c-b2c8-ac74143e703c",
   "metadata": {},
   "outputs": [],
   "source": [
    "# # Update file\n",
    "# h3_features = gpd.read_parquet(f\"{FEATURE_PATH}/h3_features.parquet\")\n",
    "# h3_features = h3_features.join(h3_regso_city_crs[[\"f19\"]])\n",
    "# h3_features.to_parquet(f\"{FEATURE_PATH}/h3_features.parquet\")"
   ]
  },
  {
   "cell_type": "code",
   "execution_count": 39,
   "id": "7a54c736-15d6-4863-adce-21ef1f3cced5",
   "metadata": {},
   "outputs": [],
   "source": [
    "# Create regso_build_area\n",
    "build = h3_regso_city.join(h3_regso_city_crs[[\"f19\"]])\n",
    "regso_build_area = build[['regso', 'f19']].groupby('regso')['f19'].sum().to_frame()"
   ]
  },
  {
   "cell_type": "markdown",
   "id": "4c15f787-0dcd-4217-81b9-a92f8d839d74",
   "metadata": {},
   "source": [
    "## Population"
   ]
  },
  {
   "cell_type": "markdown",
   "id": "d6c0ed32-df81-48db-b48d-bd08703e1ffd",
   "metadata": {},
   "source": [
    "- Number of persons living within a grid cell (mean)\n",
    "- Data from Regso"
   ]
  },
  {
   "cell_type": "code",
   "execution_count": 40,
   "id": "b7b74163-2e6a-441c-9664-30467e449790",
   "metadata": {},
   "outputs": [],
   "source": [
    "# Upload raw data\n",
    "pop_regso = pd.read_csv(f\"{RAW_DATA_PATH}/regso_population_22.csv\", encoding='latin-1')"
   ]
  },
  {
   "cell_type": "code",
   "execution_count": 41,
   "id": "b4deb2fa-0dfe-428d-bc85-989a226b0ec2",
   "metadata": {},
   "outputs": [],
   "source": [
    "# Create function for matching columns value\n",
    "\n",
    "\n",
    "def extract_substring(row):\n",
    "    string = row['region']  \n",
    "    \n",
    "    match = re.search(r'\\((.*?)\\)', string)\n",
    "    \n",
    "    if match:\n",
    "        extracted_string = match.group(1)\n",
    "        return extracted_string\n",
    "    else:\n",
    "        return \"No match found.\""
   ]
  },
  {
   "cell_type": "markdown",
   "id": "f2db10a5-89ee-48e6-bb79-6a7c51eb9dbc",
   "metadata": {},
   "source": [
    "#### NEW"
   ]
  },
  {
   "cell_type": "code",
   "execution_count": 42,
   "id": "c33ed4a5-8e66-4514-a9f3-bb96e337b161",
   "metadata": {},
   "outputs": [],
   "source": [
    "# Update columns value\n",
    "pop_regso['regso'] = pop_regso.apply(extract_substring, axis=1)\n",
    "pop_regso = pop_regso[['regso','2022']]\n",
    "pop_regso = pop_regso.merge(regso_build_area, on='regso')\n",
    "pop_regso['mean_pop'] = (pop_regso['2022'] / pop_regso['f19'])\n",
    "pop_regso.drop(columns=['2022','f19'], inplace=True)"
   ]
  },
  {
   "cell_type": "code",
   "execution_count": 43,
   "id": "f0fadd95-de8b-4acc-b36e-3851df892b91",
   "metadata": {},
   "outputs": [],
   "source": [
    "# Merge popolation data with h3\n",
    "h3_pop = h3_regso_city[[\"regso\", \"geometry\"]]\n",
    "h3_pop = (h3_pop.reset_index().merge(pop_regso, on='regso')).set_index(\"h3_polyfill\").drop(columns=\"regso\")"
   ]
  },
  {
   "cell_type": "code",
   "execution_count": 44,
   "id": "2c44ea59-809a-4521-8bd7-99411f18f630",
   "metadata": {},
   "outputs": [],
   "source": [
    "# Calculate population for h3\n",
    "h3_pop = h3_pop.join(h3_regso_city_crs[[\"f19\"]])\n",
    "h3_pop[\"f38\"] = h3_pop[\"mean_pop\"] * h3_pop[\"f19\"]"
   ]
  },
  {
   "cell_type": "code",
   "execution_count": 45,
   "id": "d4ceb6a8-34f7-415e-b302-c9064036bedf",
   "metadata": {},
   "outputs": [
    {
     "data": {
      "text/plain": [
       "355803.0"
      ]
     },
     "execution_count": 45,
     "metadata": {},
     "output_type": "execute_result"
    }
   ],
   "source": [
    "h3_pop.f38.sum()"
   ]
  },
  {
   "cell_type": "code",
   "execution_count": 31,
   "id": "a365eff3-11bc-487d-bdb4-39dce3fa2ac9",
   "metadata": {},
   "outputs": [],
   "source": [
    "# Plot the density/population of Malmo according buildings area in h3 grid cell\n",
    "# h3_pop.explore(tooltip=\"f38\", popup=False, column=\"f38\", cmap=\"plasma\", style_kwds=dict(color=\"white\", weight=0.2, fillOpacity=0.3))"
   ]
  },
  {
   "cell_type": "markdown",
   "id": "ae556af5-9279-4250-988f-9b27e09e2587",
   "metadata": {},
   "source": [
    "### Export h3_features_pop"
   ]
  },
  {
   "cell_type": "code",
   "execution_count": 47,
   "id": "105a8d28-691e-45eb-9050-1000332b824b",
   "metadata": {},
   "outputs": [],
   "source": [
    "# Export file\n",
    "h3_pop.to_parquet(f\"{TEMP_DATA_PATH}/h3_features_pop.parquet\")"
   ]
  },
  {
   "cell_type": "markdown",
   "id": "fa2b6b1c-d7ca-4bad-a56b-f09e8d26b332",
   "metadata": {},
   "source": [
    "### Update h3_features"
   ]
  },
  {
   "cell_type": "code",
   "execution_count": 25,
   "id": "9efd1c0f-7f73-40ef-8f24-0686e3dc8783",
   "metadata": {},
   "outputs": [],
   "source": [
    "\n",
    "# Add features_landuse to h3_features\n",
    "h3_features = gpd.read_parquet(f'{TEMP_DATA_PATH}/h3_regso_city.parquet')\n",
    "\n",
    "h3_features_landuse = gpd.read_parquet(f'{TEMP_DATA_PATH}/h3_features_landuse.parquet')\n",
    "h3_features = h3_regso_city.join(h3_features_landuse.drop(columns=\"geometry\"))\n",
    "\n",
    "h3_features_poi = gpd.read_parquet(f\"{TEMP_DATA_PATH}/h3_features_poi.parquet\")\n",
    "h3_features = h3_features.join(h3_features_poi.drop(columns=\"geometry\"))\n",
    "\n",
    "h3_features_dist = pd.read_parquet(f\"{TEMP_DATA_PATH}/h3_features_dist.parquet\")\n",
    "h3_features = h3_features.join(h3_features_dist)\n",
    "\n",
    "h3_features_buildings = gpd.read_parquet(f\"{TEMP_DATA_PATH}/h3_features_buildings.parquet\")\n",
    "h3_features = h3_features.join(h3_features_buildings[[\"f19\"]])\n",
    "\n",
    "# Add features_dist to h3_features\n",
    "h3_features_pop = gpd.read_parquet(f\"{TEMP_DATA_PATH}/h3_features_pop.parquet\")\n",
    "h3_features = h3_features.join(h3_features_pop[[\"f38\"]])\n",
    "h3_features.sort_index().to_parquet(f'{FEATURE_PATH}/h3_features.parquet')"
   ]
  },
  {
   "cell_type": "markdown",
   "id": "c1b998f7-4ad2-4aad-9b5a-2de2995a866d",
   "metadata": {},
   "source": [
    "### Export the features dataset to Model dir"
   ]
  },
  {
   "cell_type": "code",
   "execution_count": 26,
   "id": "9901521c-7843-4e29-a984-e0bc198419bb",
   "metadata": {},
   "outputs": [],
   "source": [
    "from datetime import datetime\n",
    "parent_dir = cwd.parent\n",
    "model_dir = parent_dir / \"Model\" / \"Data\"\n",
    "model_dir.mkdir(parents=True, exist_ok=True)\n",
    "# Format the date and time as a string\n",
    "datetime_ = datetime.now().strftime(\"%d%m%y_%H%M%S\")\n",
    "h3_features.sort_index().to_parquet(f\"{model_dir}/features_dataset_{datetime_}.parquet\")"
   ]
  },
  {
   "cell_type": "code",
   "execution_count": null,
   "id": "0211abdd-aa36-435f-b43b-c303e5883e51",
   "metadata": {},
   "outputs": [],
   "source": []
  },
  {
   "cell_type": "code",
   "execution_count": null,
   "id": "8872dd2a-8e7a-49c0-a047-6f3621d5e981",
   "metadata": {},
   "outputs": [],
   "source": []
  }
 ],
 "metadata": {
  "kernelspec": {
   "display_name": "Python 3 (ipykernel)",
   "language": "python",
   "name": "python3"
  },
  "language_info": {
   "codemirror_mode": {
    "name": "ipython",
    "version": 3
   },
   "file_extension": ".py",
   "mimetype": "text/x-python",
   "name": "python",
   "nbconvert_exporter": "python",
   "pygments_lexer": "ipython3",
   "version": "3.10.6"
  }
 },
 "nbformat": 4,
 "nbformat_minor": 5
}
